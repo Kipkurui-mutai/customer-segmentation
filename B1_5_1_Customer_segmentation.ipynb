{
  "nbformat": 4,
  "nbformat_minor": 0,
  "metadata": {
    "colab": {
      "name": "B1.5.1 Customer segmentation.ipynb",
      "provenance": [],
      "collapsed_sections": [
        "1j-f9OrzpmNr"
      ],
      "toc_visible": true
    },
    "kernelspec": {
      "name": "python3",
      "display_name": "Python 3"
    }
  },
  "cells": [
    {
      "cell_type": "markdown",
      "metadata": {
        "id": "N_HDPhYz7qEq"
      },
      "source": [
        "<h1 align=center><font size=5>Customer segmentation\n",
        "  \n",
        "In this practice, we analyze the content of the [E-commerce database](https://www.kaggle.com/carrie1/ecommerce-data) that contains purchases made by about 4000 customers over a period of one year (from 2010/12/01 to 2011/12/09).\n",
        "  \n",
        "We then try to segment the customers into several categories, and try to classify new customers into those categories."
      ]
    },
    {
      "cell_type": "markdown",
      "metadata": {
        "id": "2krYOBz-78el"
      },
      "source": [
        "# 1) Data preprocessing"
      ]
    },
    {
      "cell_type": "code",
      "metadata": {
        "id": "KCtmMYr0PpwK",
        "colab": {
          "base_uri": "https://localhost:8080/"
        },
        "outputId": "3e62de9a-e83c-47c4-e529-f5f161a73489"
      },
      "source": [
        "from google.colab import drive\n",
        "drive.mount('/content/drive')"
      ],
      "execution_count": 2,
      "outputs": [
        {
          "output_type": "stream",
          "text": [
            "Drive already mounted at /content/drive; to attempt to forcibly remount, call drive.mount(\"/content/drive\", force_remount=True).\n"
          ],
          "name": "stdout"
        }
      ]
    },
    {
      "cell_type": "markdown",
      "metadata": {
        "id": "NWvDXH1w8Bxi"
      },
      "source": [
        "## 1.1) Download dataset\n",
        "\n",
        "**Task:** Download the data set, and read the description [here](https://archive.ics.uci.edu/ml/datasets/Online%20Retail) to understand the features.\n"
      ]
    },
    {
      "cell_type": "code",
      "metadata": {
        "id": "tVyArujENCbN",
        "colab": {
          "base_uri": "https://localhost:8080/"
        },
        "outputId": "7da8aaac-e6e2-4b64-d608-00813cfa1e8c"
      },
      "source": [
        "!pip install kaggle\n"
      ],
      "execution_count": 3,
      "outputs": [
        {
          "output_type": "stream",
          "text": [
            "Requirement already satisfied: kaggle in /usr/local/lib/python3.6/dist-packages (1.5.10)\n",
            "Requirement already satisfied: urllib3 in /usr/local/lib/python3.6/dist-packages (from kaggle) (1.24.3)\n",
            "Requirement already satisfied: python-slugify in /usr/local/lib/python3.6/dist-packages (from kaggle) (4.0.1)\n",
            "Requirement already satisfied: six>=1.10 in /usr/local/lib/python3.6/dist-packages (from kaggle) (1.15.0)\n",
            "Requirement already satisfied: python-dateutil in /usr/local/lib/python3.6/dist-packages (from kaggle) (2.8.1)\n",
            "Requirement already satisfied: tqdm in /usr/local/lib/python3.6/dist-packages (from kaggle) (4.41.1)\n",
            "Requirement already satisfied: certifi in /usr/local/lib/python3.6/dist-packages (from kaggle) (2020.12.5)\n",
            "Requirement already satisfied: requests in /usr/local/lib/python3.6/dist-packages (from kaggle) (2.23.0)\n",
            "Requirement already satisfied: text-unidecode>=1.3 in /usr/local/lib/python3.6/dist-packages (from python-slugify->kaggle) (1.3)\n",
            "Requirement already satisfied: chardet<4,>=3.0.2 in /usr/local/lib/python3.6/dist-packages (from requests->kaggle) (3.0.4)\n",
            "Requirement already satisfied: idna<3,>=2.5 in /usr/local/lib/python3.6/dist-packages (from requests->kaggle) (2.10)\n"
          ],
          "name": "stdout"
        }
      ]
    },
    {
      "cell_type": "code",
      "metadata": {
        "id": "VFbIe7FENJJY"
      },
      "source": [
        "import os\n",
        "os.environ['KAGGLE_KEY']= '' # Enter your own kaggle key\n",
        "os.environ['KAGGLE_USERNAME']=\"kipkuruimutai\""
      ],
      "execution_count": 4,
      "outputs": []
    },
    {
      "cell_type": "code",
      "metadata": {
        "id": "SX9quxidOlej",
        "colab": {
          "base_uri": "https://localhost:8080/"
        },
        "outputId": "4f43168b-7c5d-4ba4-e8bb-f70075c6811f"
      },
      "source": [
        "!kaggle datasets list -s E-Commerce"
      ],
      "execution_count": 5,
      "outputs": [
        {
          "output_type": "stream",
          "text": [
            "Warning: Looks like you're using an outdated API Version, please consider updating (server 1.5.10 / client 1.5.4)\n",
            "ref                                                    title                                              size  lastUpdated          downloadCount  \n",
            "-----------------------------------------------------  ------------------------------------------------  -----  -------------------  -------------  \n",
            "carrie1/ecommerce-data                                 E-Commerce Data                                     7MB  2017-08-17 02:44:30          50826  \n",
            "nicapotato/womens-ecommerce-clothing-reviews           Women's E-Commerce Clothing Reviews                 3MB  2018-02-03 19:59:19          30723  \n",
            "olistbr/brazilian-ecommerce                            Brazilian E-Commerce Public Dataset by Olist       43MB  2018-11-29 12:22:57          54510  \n",
            "jmmvutu/summer-products-and-sales-in-ecommerce-wish    Sales of summer clothes in E-commerce Wish        376KB  2020-08-23 15:16:46          11251  \n",
            "benroshan/ecommerce-data                               E-Commerce Data                                    18KB  2020-04-22 11:47:38           1688  \n",
            "census/e-commerce-retail-sales-series-data-collection  E-Commerce Retail Sales Series Data Collection      5KB  2019-12-07 00:20:44           1071  \n",
            "AppleEcomerceInfo/ecommerce-information                E-commerce Public Dataset by Alibaba                7KB  2019-08-03 20:07:29           7159  \n",
            "jmmvutu/ecommerce-users-of-a-french-c2c-fashion-store  E-commerce - Users of a French C2C fashion store    2MB  2020-08-04 00:24:42            824  \n",
            "kolawale/focusing-on-mobile-app-or-website             Linear Regression  E-commerce Dataset              43KB  2019-09-16 19:04:27            927  \n",
            "wiredwith/websites-list                                Global e-Commerce Websites List                    65MB  2020-08-13 12:55:20            234  \n",
            "olistbr/marketing-funnel-olist                         Marketing Funnel by Olist                         278KB  2018-11-16 14:00:20           5535  \n",
            "robertvici/indonesia-top-ecommerce-unicorn-tweets      Indonesia's Top E-Commerce Tweets                  49MB  2020-05-31 04:13:31            212  \n",
            "residentmario/iowa-liquor-sales                        Iowa Liquor Sales                                 731MB  2020-05-08 00:39:43           6713  \n",
            "aerodinamicc/ecommerce-website-funnel-analysis         E-commerce website                                  1MB  2018-11-23 22:10:55            868  \n",
            "dataturks/best-buy-ecommerce-ner-dataset               Best Buy E-Commerce NER Dataset                    46KB  2018-05-22 05:53:33           1104  \n",
            "dataturks/clothing-item-detection-for-ecommerce        Clothing Item Detection for E-Commerce             38KB  2018-07-12 10:55:33           1375  \n",
            "raosuny/e-commerce-purchase-dataset                    E commerce Purchase Dataset                       294KB  2019-12-19 11:34:25            485  \n",
            "mohammedbuhliagah/ecommerce-analysis                   E-commerce Analysis                                38KB  2020-03-19 19:16:34            283  \n",
            "shashwatwork/ecommerce-data                            E-Commerce Data                                     2MB  2020-08-16 16:01:19            119  \n",
            "hk7797/janatahack-ecommerce                            JanataHack - E-Commerce                           349KB  2020-04-12 16:47:37             11  \n"
          ],
          "name": "stdout"
        }
      ]
    },
    {
      "cell_type": "code",
      "metadata": {
        "id": "_0MTOfhHPCyb",
        "colab": {
          "base_uri": "https://localhost:8080/"
        },
        "outputId": "f08e09b2-098c-4f7d-91ed-a859909f5e0c"
      },
      "source": [
        "! kaggle datasets download carrie1/ecommerce-data \n",
        "from zipfile import ZipFile \n",
        "file_name = \"/content/ecommerce-data.zip\"\n",
        "with ZipFile(file_name, 'r') as zip:                      # 'r' -> READ mode \n",
        "    zip.printdir() # print all the contents \n",
        "    zip.extractall()\n",
        "\n",
        "del zip\n",
        "\n",
        "!head -5 /content/data.csv\n"
      ],
      "execution_count": 6,
      "outputs": [
        {
          "output_type": "stream",
          "text": [
            "Downloading ecommerce-data.zip to /content\n",
            "\r  0% 0.00/7.20M [00:00<?, ?B/s]\r 69% 5.00M/7.20M [00:00<00:00, 38.6MB/s]\n",
            "\r100% 7.20M/7.20M [00:00<00:00, 45.1MB/s]\n",
            "File Name                                             Modified             Size\n",
            "data.csv                                       2019-09-20 22:35:12     45580638\n",
            "InvoiceNo,StockCode,Description,Quantity,InvoiceDate,UnitPrice,CustomerID,Country\n",
            "536365,85123A,WHITE HANGING HEART T-LIGHT HOLDER,6,12/1/2010 8:26,2.55,17850,United Kingdom\n",
            "536365,71053,WHITE METAL LANTERN,6,12/1/2010 8:26,3.39,17850,United Kingdom\n",
            "536365,84406B,CREAM CUPID HEARTS COAT HANGER,8,12/1/2010 8:26,2.75,17850,United Kingdom\n",
            "536365,84029G,KNITTED UNION FLAG HOT WATER BOTTLE,6,12/1/2010 8:26,3.39,17850,United Kingdom\n"
          ],
          "name": "stdout"
        }
      ]
    },
    {
      "cell_type": "code",
      "metadata": {
        "id": "t3yn6MofPlU5"
      },
      "source": [
        ""
      ],
      "execution_count": 6,
      "outputs": []
    },
    {
      "cell_type": "markdown",
      "metadata": {
        "id": "GRqgblWB8mSQ"
      },
      "source": [
        "##1.2)  Read data + timestamp\n",
        "\n",
        "**Task:** Read the data into a pandas dataframe `df`, investigate shape and head. Investigate the types of the features, and use `pd.to_datetime` to transform the timestamps features(InvoiceDate) to the correct format, also change the data type of CustomerID with the option dtype={'CustomerID': str} in dataframe\n",
        "\n",
        "\n",
        "<br>\n",
        "The format of data may cause you some problem, if so, have a look here:<br>\n",
        "https://stackoverflow.com/questions/18171739/unicodedecodeerror-when-reading-csv-file-in-pandas-with-python\n"
      ]
    },
    {
      "cell_type": "code",
      "metadata": {
        "id": "OJxppnf-yvVu"
      },
      "source": [
        "import pandas as pd\n",
        "data = pd.read_csv(\"/content/data.csv\", encoding='unicode_escape', dtype={\"CustomerID\":str}) #encoding=latin\n",
        "data['InvoiceDate'] = pd.to_datetime(data['InvoiceDate'])\n"
      ],
      "execution_count": 7,
      "outputs": []
    },
    {
      "cell_type": "code",
      "metadata": {
        "id": "WFsQHfQu8mk3",
        "colab": {
          "base_uri": "https://localhost:8080/"
        },
        "outputId": "4cfc7700-7ae4-4ba6-e5f1-1244765b1978"
      },
      "source": [
        "data.dtypes"
      ],
      "execution_count": 8,
      "outputs": [
        {
          "output_type": "execute_result",
          "data": {
            "text/plain": [
              "InvoiceNo              object\n",
              "StockCode              object\n",
              "Description            object\n",
              "Quantity                int64\n",
              "InvoiceDate    datetime64[ns]\n",
              "UnitPrice             float64\n",
              "CustomerID             object\n",
              "Country                object\n",
              "dtype: object"
            ]
          },
          "metadata": {
            "tags": []
          },
          "execution_count": 8
        }
      ]
    },
    {
      "cell_type": "markdown",
      "metadata": {
        "id": "EIf3a4yR89O1"
      },
      "source": [
        "##1.3) Missing values\n",
        "\n",
        "**Task:** Find the percentage of missing values for each feature. Create a new dataframe `df_dropna` by removing observations without CustomerID. "
      ]
    },
    {
      "cell_type": "code",
      "metadata": {
        "id": "WZKpXVXM9H8p",
        "colab": {
          "base_uri": "https://localhost:8080/",
          "height": 529
        },
        "outputId": "a430fa0a-7ae1-40cf-bc0a-e8c7b11ecbb7"
      },
      "source": [
        "# observations containing NaN\n",
        "data.loc[data.isnull().sum(axis=1) > 0].head(10)\n"
      ],
      "execution_count": 9,
      "outputs": [
        {
          "output_type": "execute_result",
          "data": {
            "text/html": [
              "<div>\n",
              "<style scoped>\n",
              "    .dataframe tbody tr th:only-of-type {\n",
              "        vertical-align: middle;\n",
              "    }\n",
              "\n",
              "    .dataframe tbody tr th {\n",
              "        vertical-align: top;\n",
              "    }\n",
              "\n",
              "    .dataframe thead th {\n",
              "        text-align: right;\n",
              "    }\n",
              "</style>\n",
              "<table border=\"1\" class=\"dataframe\">\n",
              "  <thead>\n",
              "    <tr style=\"text-align: right;\">\n",
              "      <th></th>\n",
              "      <th>InvoiceNo</th>\n",
              "      <th>StockCode</th>\n",
              "      <th>Description</th>\n",
              "      <th>Quantity</th>\n",
              "      <th>InvoiceDate</th>\n",
              "      <th>UnitPrice</th>\n",
              "      <th>CustomerID</th>\n",
              "      <th>Country</th>\n",
              "    </tr>\n",
              "  </thead>\n",
              "  <tbody>\n",
              "    <tr>\n",
              "      <th>622</th>\n",
              "      <td>536414</td>\n",
              "      <td>22139</td>\n",
              "      <td>NaN</td>\n",
              "      <td>56</td>\n",
              "      <td>2010-12-01 11:52:00</td>\n",
              "      <td>0.00</td>\n",
              "      <td>NaN</td>\n",
              "      <td>United Kingdom</td>\n",
              "    </tr>\n",
              "    <tr>\n",
              "      <th>1443</th>\n",
              "      <td>536544</td>\n",
              "      <td>21773</td>\n",
              "      <td>DECORATIVE ROSE BATHROOM BOTTLE</td>\n",
              "      <td>1</td>\n",
              "      <td>2010-12-01 14:32:00</td>\n",
              "      <td>2.51</td>\n",
              "      <td>NaN</td>\n",
              "      <td>United Kingdom</td>\n",
              "    </tr>\n",
              "    <tr>\n",
              "      <th>1444</th>\n",
              "      <td>536544</td>\n",
              "      <td>21774</td>\n",
              "      <td>DECORATIVE CATS BATHROOM BOTTLE</td>\n",
              "      <td>2</td>\n",
              "      <td>2010-12-01 14:32:00</td>\n",
              "      <td>2.51</td>\n",
              "      <td>NaN</td>\n",
              "      <td>United Kingdom</td>\n",
              "    </tr>\n",
              "    <tr>\n",
              "      <th>1445</th>\n",
              "      <td>536544</td>\n",
              "      <td>21786</td>\n",
              "      <td>POLKADOT RAIN HAT</td>\n",
              "      <td>4</td>\n",
              "      <td>2010-12-01 14:32:00</td>\n",
              "      <td>0.85</td>\n",
              "      <td>NaN</td>\n",
              "      <td>United Kingdom</td>\n",
              "    </tr>\n",
              "    <tr>\n",
              "      <th>1446</th>\n",
              "      <td>536544</td>\n",
              "      <td>21787</td>\n",
              "      <td>RAIN PONCHO RETROSPOT</td>\n",
              "      <td>2</td>\n",
              "      <td>2010-12-01 14:32:00</td>\n",
              "      <td>1.66</td>\n",
              "      <td>NaN</td>\n",
              "      <td>United Kingdom</td>\n",
              "    </tr>\n",
              "    <tr>\n",
              "      <th>1447</th>\n",
              "      <td>536544</td>\n",
              "      <td>21790</td>\n",
              "      <td>VINTAGE SNAP CARDS</td>\n",
              "      <td>9</td>\n",
              "      <td>2010-12-01 14:32:00</td>\n",
              "      <td>1.66</td>\n",
              "      <td>NaN</td>\n",
              "      <td>United Kingdom</td>\n",
              "    </tr>\n",
              "    <tr>\n",
              "      <th>1448</th>\n",
              "      <td>536544</td>\n",
              "      <td>21791</td>\n",
              "      <td>VINTAGE HEADS AND TAILS CARD GAME</td>\n",
              "      <td>2</td>\n",
              "      <td>2010-12-01 14:32:00</td>\n",
              "      <td>2.51</td>\n",
              "      <td>NaN</td>\n",
              "      <td>United Kingdom</td>\n",
              "    </tr>\n",
              "    <tr>\n",
              "      <th>1449</th>\n",
              "      <td>536544</td>\n",
              "      <td>21801</td>\n",
              "      <td>CHRISTMAS TREE DECORATION WITH BELL</td>\n",
              "      <td>10</td>\n",
              "      <td>2010-12-01 14:32:00</td>\n",
              "      <td>0.43</td>\n",
              "      <td>NaN</td>\n",
              "      <td>United Kingdom</td>\n",
              "    </tr>\n",
              "    <tr>\n",
              "      <th>1450</th>\n",
              "      <td>536544</td>\n",
              "      <td>21802</td>\n",
              "      <td>CHRISTMAS TREE HEART DECORATION</td>\n",
              "      <td>9</td>\n",
              "      <td>2010-12-01 14:32:00</td>\n",
              "      <td>0.43</td>\n",
              "      <td>NaN</td>\n",
              "      <td>United Kingdom</td>\n",
              "    </tr>\n",
              "    <tr>\n",
              "      <th>1451</th>\n",
              "      <td>536544</td>\n",
              "      <td>21803</td>\n",
              "      <td>CHRISTMAS TREE STAR DECORATION</td>\n",
              "      <td>11</td>\n",
              "      <td>2010-12-01 14:32:00</td>\n",
              "      <td>0.43</td>\n",
              "      <td>NaN</td>\n",
              "      <td>United Kingdom</td>\n",
              "    </tr>\n",
              "  </tbody>\n",
              "</table>\n",
              "</div>"
            ],
            "text/plain": [
              "     InvoiceNo StockCode  ... CustomerID         Country\n",
              "622     536414     22139  ...        NaN  United Kingdom\n",
              "1443    536544     21773  ...        NaN  United Kingdom\n",
              "1444    536544     21774  ...        NaN  United Kingdom\n",
              "1445    536544     21786  ...        NaN  United Kingdom\n",
              "1446    536544     21787  ...        NaN  United Kingdom\n",
              "1447    536544     21790  ...        NaN  United Kingdom\n",
              "1448    536544     21791  ...        NaN  United Kingdom\n",
              "1449    536544     21801  ...        NaN  United Kingdom\n",
              "1450    536544     21802  ...        NaN  United Kingdom\n",
              "1451    536544     21803  ...        NaN  United Kingdom\n",
              "\n",
              "[10 rows x 8 columns]"
            ]
          },
          "metadata": {
            "tags": []
          },
          "execution_count": 9
        }
      ]
    },
    {
      "cell_type": "code",
      "metadata": {
        "id": "Cj1J9JUUTng-",
        "colab": {
          "base_uri": "https://localhost:8080/"
        },
        "outputId": "5147dc1e-08cf-4d41-9a93-1d0196ef349b"
      },
      "source": [
        "# missing percentages\n",
        "data.isnull().sum(axis=0) / data.shape[0]\n"
      ],
      "execution_count": 10,
      "outputs": [
        {
          "output_type": "execute_result",
          "data": {
            "text/plain": [
              "InvoiceNo      0.000000\n",
              "StockCode      0.000000\n",
              "Description    0.002683\n",
              "Quantity       0.000000\n",
              "InvoiceDate    0.000000\n",
              "UnitPrice      0.000000\n",
              "CustomerID     0.249267\n",
              "Country        0.000000\n",
              "dtype: float64"
            ]
          },
          "metadata": {
            "tags": []
          },
          "execution_count": 10
        }
      ]
    },
    {
      "cell_type": "code",
      "metadata": {
        "id": "DuJslAPET4oK",
        "colab": {
          "base_uri": "https://localhost:8080/"
        },
        "outputId": "6463f162-4a3b-47ab-e71c-b129d18f0e58"
      },
      "source": [
        "# if we drop all entries with unknown customer ID, missing values in Description also disappear\n",
        "data_dropna = data.dropna(axis = 0, subset = ['CustomerID', 'Description'])\n",
        "\n",
        "# missing percentages\n",
        "data_dropna.isnull().sum(axis=0) / data_dropna.shape[0]\n"
      ],
      "execution_count": 11,
      "outputs": [
        {
          "output_type": "execute_result",
          "data": {
            "text/plain": [
              "InvoiceNo      0.0\n",
              "StockCode      0.0\n",
              "Description    0.0\n",
              "Quantity       0.0\n",
              "InvoiceDate    0.0\n",
              "UnitPrice      0.0\n",
              "CustomerID     0.0\n",
              "Country        0.0\n",
              "dtype: float64"
            ]
          },
          "metadata": {
            "tags": []
          },
          "execution_count": 11
        }
      ]
    },
    {
      "cell_type": "code",
      "metadata": {
        "id": "tsAbN4WrU1Zm",
        "colab": {
          "base_uri": "https://localhost:8080/",
          "height": 445
        },
        "outputId": "9ebfb6f2-d0b8-4395-e33b-1816c980970b"
      },
      "source": [
        "import missingno as msno\n",
        "\n",
        "msno.matrix(data)\n"
      ],
      "execution_count": 12,
      "outputs": [
        {
          "output_type": "execute_result",
          "data": {
            "text/plain": [
              "<matplotlib.axes._subplots.AxesSubplot at 0x7f7b5d4e26d8>"
            ]
          },
          "metadata": {
            "tags": []
          },
          "execution_count": 12
        },
        {
          "output_type": "display_data",
          "data": {
            "image/png": "[encoded data removed]",
            "text/plain": [
              "<Figure size 1800x720 with 2 Axes>"
            ]
          },
          "metadata": {
            "tags": [],
            "needs_background": "light"
          }
        }
      ]
    },
    {
      "cell_type": "code",
      "metadata": {
        "id": "Vyxn7XSOU8R7",
        "colab": {
          "base_uri": "https://localhost:8080/",
          "height": 490
        },
        "outputId": "36b415da-387a-48d1-aad1-03df38e09fad"
      },
      "source": [
        "msno.bar(data)\n"
      ],
      "execution_count": 13,
      "outputs": [
        {
          "output_type": "execute_result",
          "data": {
            "text/plain": [
              "<matplotlib.axes._subplots.AxesSubplot at 0x7f7b52f0e0b8>"
            ]
          },
          "metadata": {
            "tags": []
          },
          "execution_count": 13
        },
        {
          "output_type": "display_data",
          "data": {
            "image/png": "[encoded data removed]",
            "text/plain": [
              "<Figure size 1728x720 with 3 Axes>"
            ]
          },
          "metadata": {
            "tags": [],
            "needs_background": "light"
          }
        }
      ]
    },
    {
      "cell_type": "code",
      "metadata": {
        "id": "BO8eB-rOVFA5",
        "colab": {
          "base_uri": "https://localhost:8080/",
          "height": 661
        },
        "outputId": "22ed3f4e-c5b1-4428-f2f2-8ec53de62470"
      },
      "source": [
        "msno.heatmap(data)\n"
      ],
      "execution_count": 14,
      "outputs": [
        {
          "output_type": "execute_result",
          "data": {
            "text/plain": [
              "<matplotlib.axes._subplots.AxesSubplot at 0x7f7b54725898>"
            ]
          },
          "metadata": {
            "tags": []
          },
          "execution_count": 14
        },
        {
          "output_type": "display_data",
          "data": {
            "image/png": "[encoded data removed]",
            "text/plain": [
              "<Figure size 1440x864 with 2 Axes>"
            ]
          },
          "metadata": {
            "tags": [],
            "needs_background": "light"
          }
        }
      ]
    },
    {
      "cell_type": "code",
      "metadata": {
        "id": "gxJGlm4cVUa2",
        "colab": {
          "base_uri": "https://localhost:8080/",
          "height": 336
        },
        "outputId": "83166a7f-001d-42b6-c63d-3d955c6e0ae6"
      },
      "source": [
        "import seaborn as sns\n",
        "sns.heatmap(data.isna(), cbar=False)\n"
      ],
      "execution_count": 15,
      "outputs": [
        {
          "output_type": "execute_result",
          "data": {
            "text/plain": [
              "<matplotlib.axes._subplots.AxesSubplot at 0x7f7b54658a58>"
            ]
          },
          "metadata": {
            "tags": []
          },
          "execution_count": 15
        },
        {
          "output_type": "display_data",
          "data": {
            "image/png": "[encoded data removed]",
            "text/plain": [
              "<Figure size 432x288 with 1 Axes>"
            ]
          },
          "metadata": {
            "tags": [],
            "needs_background": "light"
          }
        }
      ]
    },
    {
      "cell_type": "markdown",
      "metadata": {
        "id": "QO8U2kcz9Tsv"
      },
      "source": [
        "## 1.4) Duplicates\n",
        "\n",
        "**Task:** Is there any duplicate in the data i.e. 2 identical observations? If it's the case, remove the duplicates (keep one for each distinct obervation of course) and save to `df_dropna`.\n",
        "<br>\n",
        "function:<br>\n",
        "df.drop_duplicates"
      ]
    },
    {
      "cell_type": "code",
      "metadata": {
        "id": "lqQKy1IQ9UAa",
        "colab": {
          "base_uri": "https://localhost:8080/",
          "height": 289
        },
        "outputId": "f9bf53b5-88bf-4add-e41e-aa1989417438"
      },
      "source": [
        "# some entries having duplicates\n",
        "data_dropna.loc[data_dropna.duplicated(keep=False)].head()"
      ],
      "execution_count": 16,
      "outputs": [
        {
          "output_type": "execute_result",
          "data": {
            "text/html": [
              "<div>\n",
              "<style scoped>\n",
              "    .dataframe tbody tr th:only-of-type {\n",
              "        vertical-align: middle;\n",
              "    }\n",
              "\n",
              "    .dataframe tbody tr th {\n",
              "        vertical-align: top;\n",
              "    }\n",
              "\n",
              "    .dataframe thead th {\n",
              "        text-align: right;\n",
              "    }\n",
              "</style>\n",
              "<table border=\"1\" class=\"dataframe\">\n",
              "  <thead>\n",
              "    <tr style=\"text-align: right;\">\n",
              "      <th></th>\n",
              "      <th>InvoiceNo</th>\n",
              "      <th>StockCode</th>\n",
              "      <th>Description</th>\n",
              "      <th>Quantity</th>\n",
              "      <th>InvoiceDate</th>\n",
              "      <th>UnitPrice</th>\n",
              "      <th>CustomerID</th>\n",
              "      <th>Country</th>\n",
              "    </tr>\n",
              "  </thead>\n",
              "  <tbody>\n",
              "    <tr>\n",
              "      <th>485</th>\n",
              "      <td>536409</td>\n",
              "      <td>22111</td>\n",
              "      <td>SCOTTIE DOG HOT WATER BOTTLE</td>\n",
              "      <td>1</td>\n",
              "      <td>2010-12-01 11:45:00</td>\n",
              "      <td>4.95</td>\n",
              "      <td>17908</td>\n",
              "      <td>United Kingdom</td>\n",
              "    </tr>\n",
              "    <tr>\n",
              "      <th>489</th>\n",
              "      <td>536409</td>\n",
              "      <td>22866</td>\n",
              "      <td>HAND WARMER SCOTTY DOG DESIGN</td>\n",
              "      <td>1</td>\n",
              "      <td>2010-12-01 11:45:00</td>\n",
              "      <td>2.10</td>\n",
              "      <td>17908</td>\n",
              "      <td>United Kingdom</td>\n",
              "    </tr>\n",
              "    <tr>\n",
              "      <th>494</th>\n",
              "      <td>536409</td>\n",
              "      <td>21866</td>\n",
              "      <td>UNION JACK FLAG LUGGAGE TAG</td>\n",
              "      <td>1</td>\n",
              "      <td>2010-12-01 11:45:00</td>\n",
              "      <td>1.25</td>\n",
              "      <td>17908</td>\n",
              "      <td>United Kingdom</td>\n",
              "    </tr>\n",
              "    <tr>\n",
              "      <th>517</th>\n",
              "      <td>536409</td>\n",
              "      <td>21866</td>\n",
              "      <td>UNION JACK FLAG LUGGAGE TAG</td>\n",
              "      <td>1</td>\n",
              "      <td>2010-12-01 11:45:00</td>\n",
              "      <td>1.25</td>\n",
              "      <td>17908</td>\n",
              "      <td>United Kingdom</td>\n",
              "    </tr>\n",
              "    <tr>\n",
              "      <th>521</th>\n",
              "      <td>536409</td>\n",
              "      <td>22900</td>\n",
              "      <td>SET 2 TEA TOWELS I LOVE LONDON</td>\n",
              "      <td>1</td>\n",
              "      <td>2010-12-01 11:45:00</td>\n",
              "      <td>2.95</td>\n",
              "      <td>17908</td>\n",
              "      <td>United Kingdom</td>\n",
              "    </tr>\n",
              "  </tbody>\n",
              "</table>\n",
              "</div>"
            ],
            "text/plain": [
              "    InvoiceNo StockCode  ... CustomerID         Country\n",
              "485    536409     22111  ...      17908  United Kingdom\n",
              "489    536409     22866  ...      17908  United Kingdom\n",
              "494    536409     21866  ...      17908  United Kingdom\n",
              "517    536409     21866  ...      17908  United Kingdom\n",
              "521    536409     22900  ...      17908  United Kingdom\n",
              "\n",
              "[5 rows x 8 columns]"
            ]
          },
          "metadata": {
            "tags": []
          },
          "execution_count": 16
        }
      ]
    },
    {
      "cell_type": "code",
      "metadata": {
        "id": "NCGrEUzt9cPO"
      },
      "source": [
        "# check - should be zero if you done everything right wth df.duplicated().sum()\n"
      ],
      "execution_count": 17,
      "outputs": []
    },
    {
      "cell_type": "markdown",
      "metadata": {
        "id": "FwjLY1Se-FGA"
      },
      "source": [
        "## 1.5) Save data\n",
        "Save preprocessed data to the file `data_dropna.csv` and the original data to `data.csv`"
      ]
    },
    {
      "cell_type": "code",
      "metadata": {
        "id": "cZ5gW4J19roL"
      },
      "source": [
        "relative_path ='/cont'#put you path on google drive here where you want to save\n",
        "# data dataframe => relative_path+'/data.csv'\n",
        "# data_dropna dataframe => relative_path+'/data_dropna.csv'\n",
        "#save data and data_dropna"
      ],
      "execution_count": 18,
      "outputs": []
    },
    {
      "cell_type": "code",
      "metadata": {
        "id": "HXkGvQHwWvIK"
      },
      "source": [
        "relative_path = '/content/drive/MyDrive/DATA'\n",
        "data_dropna.to_csv(relative_path + 'data_dropna.csv') \n",
        "data.to_csv(relative_path + 'data.csv') "
      ],
      "execution_count": 19,
      "outputs": []
    }
  ]
}